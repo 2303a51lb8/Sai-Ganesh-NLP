{
  "nbformat": 4,
  "nbformat_minor": 0,
  "metadata": {
    "colab": {
      "provenance": [],
      "authorship_tag": "ABX9TyPuewqDEz2WLKh3rFj4hLym",
      "include_colab_link": true
    },
    "kernelspec": {
      "name": "python3",
      "display_name": "Python 3"
    },
    "language_info": {
      "name": "python"
    }
  },
  "cells": [
    {
      "cell_type": "markdown",
      "metadata": {
        "id": "view-in-github",
        "colab_type": "text"
      },
      "source": [
        "<a href=\"https://colab.research.google.com/github/2303a51lb8/Sai-Ganesh-NLP/blob/main/NLP_ASSIGNMENT_2.ipynb\" target=\"_parent\"><img src=\"https://colab.research.google.com/assets/colab-badge.svg\" alt=\"Open In Colab\"/></a>"
      ]
    },
    {
      "cell_type": "markdown",
      "source": [
        "**1. Take your own text or take text as “Hello there! How are you doing today? NLP is fascinating.\"  Implement Tokenization in the text.        [CO1]**"
      ],
      "metadata": {
        "id": "ULfqZSuYCILG"
      }
    },
    {
      "cell_type": "code",
      "source": [
        "import spacy\n",
        "nlp = spacy.load(\"en_core_web_sm\")\n",
        "text = \"Hello there! How are you doing today? NLP is fascinating.\"\n",
        "doc = nlp(text)\n",
        "tokens =[token.text for token in doc]\n",
        "print(\"Tokens : \",tokens)"
      ],
      "metadata": {
        "colab": {
          "base_uri": "https://localhost:8080/"
        },
        "id": "IJ-Nui6TCLHH",
        "outputId": "d137b53a-87cd-4596-cfac-50b63055dfad"
      },
      "execution_count": 1,
      "outputs": [
        {
          "output_type": "stream",
          "name": "stdout",
          "text": [
            "Tokens :  ['Hello', 'there', '!', 'How', 'are', 'you', 'doing', 'today', '?', 'NLP', 'is', 'fascinating', '.']\n"
          ]
        }
      ]
    },
    {
      "cell_type": "markdown",
      "source": [
        "**2. Take your own words or take words = [\"running\", \"ran\", \"runs\", \"easily\", \"fairly\"]. Implement Stemming in the text.      [CO1]**"
      ],
      "metadata": {
        "id": "sko59cFGCQAd"
      }
    },
    {
      "cell_type": "code",
      "source": [
        "from nltk.stem.porter import PorterStemmer\n",
        "stemmer = PorterStemmer()\n",
        "words = [\"running\", \"ran\", \"runs\", \"easily\", \"fairly\"]\n",
        "stemmed_words = [stemmer.stem(word) for word in words]\n",
        "print(\"Stemmed Words:\",stemmed_words)\n"
      ],
      "metadata": {
        "colab": {
          "base_uri": "https://localhost:8080/"
        },
        "id": "HooBfXF2DZcL",
        "outputId": "740f6a80-9a9b-4279-a137-1dbe0a323e8d"
      },
      "execution_count": 2,
      "outputs": [
        {
          "output_type": "stream",
          "name": "stdout",
          "text": [
            "Stemmed Words: ['run', 'ran', 'run', 'easili', 'fairli']\n"
          ]
        }
      ]
    },
    {
      "cell_type": "markdown",
      "source": [
        "\n",
        "**3. Implement representation of word on any text or take text as “NLP is fun and interesting.\", \"NLP involves linguistics and computer science.\"                      [CO1]**\n"
      ],
      "metadata": {
        "id": "8C6IXZwDDufY"
      }
    },
    {
      "cell_type": "code",
      "source": [
        "from sklearn.feature_extraction.text import CountVectorizer\n",
        "\n",
        "texts = [\n",
        "    \"NLP is fun and interesting.\",\n",
        "    \"NLP involves linguistics and computer science.\"\n",
        "]\n",
        "vectorizer = CountVectorizer()\n",
        "bow_matrix = vectorizer.fit_transform(texts)\n",
        "print(\"Vocabulary:\")\n",
        "print(vectorizer.get_feature_names_out())\n",
        "print(\"\\nBag of Words representation:\")\n",
        "print(bow_matrix.toarray())"
      ],
      "metadata": {
        "colab": {
          "base_uri": "https://localhost:8080/"
        },
        "id": "ZLaXAu52DxXO",
        "outputId": "9cbb7fbf-63a6-447e-82c1-ba66f281588c"
      },
      "execution_count": 8,
      "outputs": [
        {
          "output_type": "stream",
          "name": "stdout",
          "text": [
            "Vocabulary:\n",
            "['and' 'computer' 'fun' 'interesting' 'involves' 'is' 'linguistics' 'nlp'\n",
            " 'science']\n",
            "\n",
            "Bag of Words representation:\n",
            "[[1 0 1 1 0 1 0 1 0]\n",
            " [1 1 0 0 1 0 1 1 1]]\n"
          ]
        }
      ]
    },
    {
      "cell_type": "markdown",
      "source": [
        "**4. Implement Representation of Sentences on following or take any other sentence\n",
        "\"NLP is an interesting field.\", \"It involves processing natural language.\"                          [CO1]**\n"
      ],
      "metadata": {
        "id": "JgyDMb_ND0l6"
      }
    },
    {
      "cell_type": "code",
      "source": [
        "from sklearn.feature_extraction.text import TfidfVectorizer\n",
        "sentences = [\n",
        "    \"NLP is an interesting field.\",\n",
        "    \"It involves processing natural language.\"\n",
        "]\n",
        "vectorizer = TfidfVectorizer()\n",
        "tfidf_matrix = vectorizer.fit_transform(sentences)\n",
        "\n",
        "print(\"Vocabulary:\")\n",
        "print(vectorizer.get_feature_names_out())\n",
        "\n",
        "print(\"\\nTF-IDF representation:\")\n",
        "print(tfidf_matrix.toarray())"
      ],
      "metadata": {
        "colab": {
          "base_uri": "https://localhost:8080/"
        },
        "id": "rI2dzLwDD4ai",
        "outputId": "6a26f9b8-0400-4d9c-ed47-f4fffe831ed3"
      },
      "execution_count": 9,
      "outputs": [
        {
          "output_type": "stream",
          "name": "stdout",
          "text": [
            "Vocabulary:\n",
            "['an' 'field' 'interesting' 'involves' 'is' 'it' 'language' 'natural'\n",
            " 'nlp' 'processing']\n",
            "\n",
            "TF-IDF representation:\n",
            "[[0.4472136 0.4472136 0.4472136 0.        0.4472136 0.        0.\n",
            "  0.        0.4472136 0.       ]\n",
            " [0.        0.        0.        0.4472136 0.        0.4472136 0.4472136\n",
            "  0.4472136 0.        0.4472136]]\n"
          ]
        }
      ]
    }
  ]
}